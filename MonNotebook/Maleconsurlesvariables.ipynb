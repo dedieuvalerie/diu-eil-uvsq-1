{
 "cells": [
  {
   "cell_type": "markdown",
   "metadata": {},
   "source": [
    "# Référence d'un objet\n",
    "\n",
    "Exécuter le code ci-dessous. Que se passe-t-il lorsqu'on écrit l'instruction \"pam=7\" ?\n"
   ]
  },
  {
   "cell_type": "code",
   "execution_count": 8,
   "metadata": {},
   "outputs": [
    {
     "name": "stdout",
     "output_type": "stream",
     "text": [
      "7\n"
     ]
    }
   ],
   "source": [
    "pam=7\n",
    "print(pam)"
   ]
  },
  {
   "cell_type": "markdown",
   "metadata": {},
   "source": [
    "L'affectation se fait en trois étapes :\n",
    "1. D'une part, l'objet \"7\" de type int est créé\n",
    "2. D'autre part, la variable \"pam\" est créée\n",
    "3. La variable \"pam\" est reliée à l'objet \"7\"\n",
    "\n",
    "On dit que l'objet \"7\" est référencé par la variable \"pam\""
   ]
  },
  {
   "cell_type": "markdown",
   "metadata": {},
   "source": [
    "![title](FigAffectationpam.png)\n"
   ]
  },
  {
   "cell_type": "code",
   "execution_count": 10,
   "metadata": {},
   "outputs": [
    {
     "name": "stdout",
     "output_type": "stream",
     "text": [
      "Valeur de la variable pam : 7, son type <class 'int'>, son identifiant: 94787302682016\n"
     ]
    }
   ],
   "source": [
    "print(str.format(\"Valeur de la variable pam : {}, son type {}, son identifiant: {}\",pam,type(pam),id(pam)))"
   ]
  },
  {
   "cell_type": "code",
   "execution_count": null,
   "metadata": {},
   "outputs": [],
   "source": []
  }
 ],
 "metadata": {
  "kernelspec": {
   "display_name": "Python 3",
   "language": "python",
   "name": "python3"
  },
  "language_info": {
   "codemirror_mode": {
    "name": "ipython",
    "version": 3
   },
   "file_extension": ".py",
   "mimetype": "text/x-python",
   "name": "python",
   "nbconvert_exporter": "python",
   "pygments_lexer": "ipython3",
   "version": "3.6.3"
  }
 },
 "nbformat": 4,
 "nbformat_minor": 2
}
