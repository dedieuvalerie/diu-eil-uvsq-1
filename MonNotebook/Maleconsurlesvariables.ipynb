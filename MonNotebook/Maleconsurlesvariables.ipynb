{
 "cells": [
  {
   "cell_type": "markdown",
   "metadata": {},
   "source": [
    "# Leçon sur les variables \n",
    "\n",
    "### Valérie Dedieu - Pascal Martin\n",
    "### Juin 2019\n",
    "\n",
    "***"
   ]
  },
  {
   "cell_type": "markdown",
   "metadata": {},
   "source": [
    "# Référence d'un objet\n",
    "\n",
    "#### Exécuter le code ci-dessous. Que se passe-t-il lorsqu'on écrit l'instruction \"age=7\" ?\n"
   ]
  },
  {
   "cell_type": "code",
   "execution_count": 1,
   "metadata": {},
   "outputs": [
    {
     "name": "stdout",
     "output_type": "stream",
     "text": [
      "7\n"
     ]
    }
   ],
   "source": [
    "age=7\n",
    "print(age)"
   ]
  },
  {
   "cell_type": "markdown",
   "metadata": {},
   "source": [
    "L'affectation se fait en trois étapes :\n",
    "1. D'une part, l'objet \"7\" de type int est créé\n",
    "2. D'autre part, la variable \"age\" est créée\n",
    "3. La variable \"age\" est reliée à l'objet \"7\"\n",
    "\n",
    "On dit que l'objet \"7\" est référencé par la variable \"age\""
   ]
  },
  {
   "cell_type": "markdown",
   "metadata": {},
   "source": [
    "![title](FiguAffectationage.png)\n"
   ]
  },
  {
   "cell_type": "code",
   "execution_count": 2,
   "metadata": {},
   "outputs": [
    {
     "name": "stdout",
     "output_type": "stream",
     "text": [
      "Valeur de la variable age : 7, son type <class 'int'>, son identifiant: 94474459712928\n"
     ]
    }
   ],
   "source": [
    "print(str.format(\"Valeur de la variable age : {}, son type {}, son identifiant: {}\",age,type(age),id(age)))"
   ]
  },
  {
   "cell_type": "markdown",
   "metadata": {},
   "source": [
    "#### Exécuter le code ci-dessous. Que se passe-t-il lorsqu'on écrit l'instruction \"age=age+1\" ?"
   ]
  },
  {
   "cell_type": "code",
   "execution_count": 3,
   "metadata": {},
   "outputs": [
    {
     "name": "stdout",
     "output_type": "stream",
     "text": [
      "Valeur de la variable age : 8, son type <class 'int'>, son identifiant: 94474459712960\n"
     ]
    }
   ],
   "source": [
    "age=age+1\n",
    "print(str.format(\"Valeur de la variable age : {}, son type {}, son identifiant: {}\",age,type(age),id(age)))"
   ]
  },
  {
   "cell_type": "markdown",
   "metadata": {},
   "source": [
    "![title](FiguAffectationAgeplus1.png)"
   ]
  },
  {
   "cell_type": "markdown",
   "metadata": {},
   "source": [
    "1. L'objet \"8\" est créé\n",
    "2. La variable \"age\" est maintenant reliée à ce nouvel objet\n",
    "\n",
    "Remarque : l'objet \"7\" n'est plus accessible"
   ]
  },
  {
   "cell_type": "markdown",
   "metadata": {},
   "source": [
    "#### Exécuter le code ci-dessous. Que se passe-t-il lorsqu'on écrit l'instruction \"y=age\" ?"
   ]
  },
  {
   "cell_type": "code",
   "execution_count": 4,
   "metadata": {},
   "outputs": [
    {
     "name": "stdout",
     "output_type": "stream",
     "text": [
      "Valeur de la variable y : 8, son type <class 'int'>, son identifiant: 94474459712960\n"
     ]
    }
   ],
   "source": [
    "y=age\n",
    "print(str.format(\"Valeur de la variable y : {}, son type {}, son identifiant: {}\",y,type(y),id(y)))"
   ]
  },
  {
   "cell_type": "markdown",
   "metadata": {},
   "source": [
    "![title](FiguAffectationAgedsy.png)"
   ]
  },
  {
   "cell_type": "markdown",
   "metadata": {},
   "source": [
    "1. La variable \"y\" est créée\n",
    "2. Elle est reliée à l'objet pointé par la variable \"age\""
   ]
  },
  {
   "cell_type": "markdown",
   "metadata": {},
   "source": [
    "***"
   ]
  },
  {
   "cell_type": "markdown",
   "metadata": {},
   "source": [
    "# Objet mutable vs non mutable"
   ]
  },
  {
   "cell_type": "markdown",
   "metadata": {},
   "source": [
    "#### Exécuter le code ci-dessous :"
   ]
  },
  {
   "cell_type": "code",
   "execution_count": 5,
   "metadata": {},
   "outputs": [
    {
     "name": "stdout",
     "output_type": "stream",
     "text": [
      "[1, 6, 'pam', True, 'poum']\n"
     ]
    }
   ],
   "source": [
    "liste1 = [1, 6, \"pam\", True]\n",
    "liste1.append(\"poum\")\n",
    "print(liste1)"
   ]
  },
  {
   "cell_type": "markdown",
   "metadata": {},
   "source": [
    "Est-ce le résultat attendu ?"
   ]
  },
  {
   "cell_type": "code",
   "execution_count": 6,
   "metadata": {},
   "outputs": [],
   "source": [
    "#### Exécuter le code ci-dessous :"
   ]
  },
  {
   "cell_type": "code",
   "execution_count": null,
   "metadata": {},
   "outputs": [],
   "source": [
    "phrase=\"Hello world !\"\n",
    "print(phrase.upper())"
   ]
  },
  {
   "cell_type": "markdown",
   "metadata": {},
   "source": [
    "Que s'affiche-t-il ?"
   ]
  },
  {
   "cell_type": "markdown",
   "metadata": {},
   "source": [
    "La variable \"phrase\" a-t-elle été modifiée ?"
   ]
  },
  {
   "cell_type": "code",
   "execution_count": null,
   "metadata": {},
   "outputs": [],
   "source": [
    "print(phrase)"
   ]
  },
  {
   "cell_type": "markdown",
   "metadata": {},
   "source": [
    "Un objet de type str est non mutable. Lorsqu’on applique une méthode à un objet de type str, la modification ne se fait pas directement sur l’objet mais une copie est créée en mémoire.\n",
    "C'est aussi le cas pour les objets de type int, bool, float, tuple, range.\n",
    "\n",
    "En revanche, un objet de type list est mutable. Lorsqu’on applique une méthode à un objet de type list, la modification se fait directement en mémoire. "
   ]
  },
  {
   "cell_type": "markdown",
   "metadata": {},
   "source": [
    "#### Exécuter le code ci-dessous :"
   ]
  },
  {
   "cell_type": "code",
   "execution_count": 9,
   "metadata": {},
   "outputs": [
    {
     "name": "stdout",
     "output_type": "stream",
     "text": [
      "[7, 8]\n",
      "7\n"
     ]
    }
   ],
   "source": [
    "def ajouter_entiersconsecutifs(liste,entier):\n",
    "    liste.append(entier)\n",
    "    entier=entier+1\n",
    "    liste.append(entier)\n",
    "    \n",
    "liste=[]\n",
    "x=7\n",
    "ajouter_entiersconsecutifs(liste,x)\n",
    "print(liste)\n",
    "print(x)"
   ]
  },
  {
   "cell_type": "markdown",
   "metadata": {},
   "source": [
    "Les valeurs affichées sont-elles les valeurs attendues (liste et x) ? \n",
    "\n",
    "#### Lors d'un appel de fonction, c'est le gros truc à comprendre pour faire la différence entre un objet mutable et un objet non mutable ! Attention donc lorsque vous manipulez des objets mutables !"
   ]
  },
  {
   "cell_type": "markdown",
   "metadata": {},
   "source": [
    "***"
   ]
  },
  {
   "cell_type": "markdown",
   "metadata": {},
   "source": [
    "# Identité (pour aller encore plus loin !)"
   ]
  },
  {
   "cell_type": "markdown",
   "metadata": {},
   "source": [
    "#### Exécuter le code ci-dessous :"
   ]
  },
  {
   "cell_type": "code",
   "execution_count": 31,
   "metadata": {},
   "outputs": [
    {
     "name": "stdout",
     "output_type": "stream",
     "text": [
      "True\n",
      "True\n"
     ]
    }
   ],
   "source": [
    "x=1\n",
    "y=x\n",
    "print(x==y)\n",
    "print(x is y)"
   ]
  },
  {
   "cell_type": "markdown",
   "metadata": {},
   "source": [
    "Le résultat paraît logique. Les deux variables sont reliées au même objet."
   ]
  },
  {
   "cell_type": "markdown",
   "metadata": {},
   "source": [
    "#### Exécuter le code ci-dessous :"
   ]
  },
  {
   "cell_type": "code",
   "execution_count": 32,
   "metadata": {},
   "outputs": [
    {
     "name": "stdout",
     "output_type": "stream",
     "text": [
      "True\n",
      "False\n"
     ]
    }
   ],
   "source": [
    "liste1=[]\n",
    "liste1.append(1)\n",
    "liste2=[]\n",
    "liste2.append(1)\n",
    "print(liste1 == liste2)\n",
    "print(liste1 is liste2)"
   ]
  },
  {
   "cell_type": "code",
   "execution_count": 16,
   "metadata": {},
   "outputs": [
    {
     "name": "stdout",
     "output_type": "stream",
     "text": [
      "Liste1= [1], son type <class 'list'>, son identifiant: 139724179147080\n"
     ]
    }
   ],
   "source": [
    "print(str.format(\"Liste1= {}, son type {}, son identifiant: {}\",liste1,type(liste1),id(liste1)))"
   ]
  },
  {
   "cell_type": "code",
   "execution_count": 27,
   "metadata": {},
   "outputs": [
    {
     "name": "stdout",
     "output_type": "stream",
     "text": [
      "Liste2= [1, 2], son type <class 'list'>, son identifiant: 139724146961736\n"
     ]
    }
   ],
   "source": [
    "print(str.format(\"Liste2= {}, son type {}, son identifiant: {}\",liste2,type(liste2),id(liste2)))"
   ]
  },
  {
   "cell_type": "code",
   "execution_count": 28,
   "metadata": {},
   "outputs": [
    {
     "name": "stdout",
     "output_type": "stream",
     "text": [
      "Liste1[0]= 1, son type <class 'int'>, son identifiant: 94474459712736\n"
     ]
    }
   ],
   "source": [
    "print(str.format(\"Liste1[0]= {}, son type {}, son identifiant: {}\",liste1[0],type(liste1[0]),id(liste1[0])))"
   ]
  },
  {
   "cell_type": "code",
   "execution_count": 29,
   "metadata": {},
   "outputs": [
    {
     "name": "stdout",
     "output_type": "stream",
     "text": [
      "Liste2[0]= 1, son type <class 'int'>, son identifiant: 94474459712736\n"
     ]
    }
   ],
   "source": [
    "print(str.format(\"Liste2[0]= {}, son type {}, son identifiant: {}\",liste2[0],type(liste2[0]),id(liste2[0])))"
   ]
  },
  {
   "cell_type": "markdown",
   "metadata": {},
   "source": [
    "Que se passe-t-il dans cet exemple ? \n",
    "\n",
    "#### Les éléments de chaque liste pointent le même objet \"1\", mais les listes ne sont pas reliées au même objet de type list."
   ]
  },
  {
   "cell_type": "code",
   "execution_count": 30,
   "metadata": {},
   "outputs": [
    {
     "name": "stdout",
     "output_type": "stream",
     "text": [
      "True\n",
      "True\n",
      "True\n",
      "Liste1= [1, 2], son type <class 'list'>, son identifiant: 139724175594248\n",
      "Liste2= [1, 2], son type <class 'list'>, son identifiant: 139724175594248\n"
     ]
    }
   ],
   "source": [
    "liste1=liste2=[]\n",
    "liste1.append(1)\n",
    "print(liste1 is liste2)\n",
    "print(liste1==liste2)\n",
    "liste2.append(2)\n",
    "print(liste1==liste2)\n",
    "print(str.format(\"Liste1= {}, son type {}, son identifiant: {}\",liste1,type(liste1),id(liste1)))\n",
    "print(str.format(\"Liste2= {}, son type {}, son identifiant: {}\",liste2,type(liste2),id(liste2)))"
   ]
  },
  {
   "cell_type": "markdown",
   "metadata": {},
   "source": [
    "#### Les deux listes sont reliées au même objet et de ce fait sont modifiées simultanément."
   ]
  },
  {
   "cell_type": "code",
   "execution_count": null,
   "metadata": {},
   "outputs": [],
   "source": []
  }
 ],
 "metadata": {
  "kernelspec": {
   "display_name": "Python 3",
   "language": "python",
   "name": "python3"
  },
  "language_info": {
   "codemirror_mode": {
    "name": "ipython",
    "version": 3
   },
   "file_extension": ".py",
   "mimetype": "text/x-python",
   "name": "python",
   "nbconvert_exporter": "python",
   "pygments_lexer": "ipython3",
   "version": "3.6.3"
  }
 },
 "nbformat": 4,
 "nbformat_minor": 2
}
