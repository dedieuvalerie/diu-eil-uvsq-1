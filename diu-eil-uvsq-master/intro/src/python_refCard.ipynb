{
 "cells": [
  {
   "cell_type": "markdown",
   "metadata": {},
   "source": [
    "# Principaux types et littéraux"
   ]
  },
  {
   "cell_type": "code",
   "execution_count": 32,
   "metadata": {
    "collapsed": true
   },
   "outputs": [],
   "source": [
    "# une fonction utilitaire\n",
    "def describe_variable(variable):\n",
    "    \"\"\"Retourne la valeur d'une variable, son identifiant et son type sous forme d'une chaîne.\"\"\"\n",
    "    return str.format(\"{} ({}, {})\", variable, id(variable), type(variable))"
   ]
  },
  {
   "cell_type": "markdown",
   "metadata": {},
   "source": [
    "## Entier"
   ]
  },
  {
   "cell_type": "code",
   "execution_count": 33,
   "metadata": {
    "collapsed": false
   },
   "outputs": [
    {
     "name": "stdout",
     "output_type": "stream",
     "text": [
      "20 (94501225103616, <class 'int'>)\n"
     ]
    }
   ],
   "source": [
    "# un entier (int)\n",
    "largeur = 20\n",
    "print(describe_variable(largeur))"
   ]
  },
  {
   "cell_type": "markdown",
   "metadata": {},
   "source": [
    "## Booléen"
   ]
  },
  {
   "cell_type": "code",
   "execution_count": 34,
   "metadata": {
    "collapsed": false
   },
   "outputs": [
    {
     "name": "stdout",
     "output_type": "stream",
     "text": [
      "False (94501224927680, <class 'bool'>)\n"
     ]
    }
   ],
   "source": [
    "# un booléen\n",
    "trouve = False\n",
    "print(describe_variable(trouve))"
   ]
  },
  {
   "cell_type": "markdown",
   "metadata": {},
   "source": [
    "## Nombre en virgule flottante"
   ]
  },
  {
   "cell_type": "code",
   "execution_count": 35,
   "metadata": {
    "collapsed": false
   },
   "outputs": [
    {
     "name": "stdout",
     "output_type": "stream",
     "text": [
      "12.3 (139963093511384, <class 'float'>)\n"
     ]
    }
   ],
   "source": [
    "# un nombre en virgule flottante\n",
    "prix = 12.3\n",
    "print(describe_variable(prix))"
   ]
  },
  {
   "cell_type": "markdown",
   "metadata": {},
   "source": [
    "## Nombre complexe"
   ]
  },
  {
   "cell_type": "code",
   "execution_count": 36,
   "metadata": {
    "collapsed": false
   },
   "outputs": [
    {
     "name": "stdout",
     "output_type": "stream",
     "text": [
      "(2+3j) (139963036830672, <class 'complex'>)\n"
     ]
    }
   ],
   "source": [
    "# un complexe\n",
    "a_complex = 2+3j\n",
    "print(describe_variable(a_complex))"
   ]
  },
  {
   "cell_type": "markdown",
   "metadata": {},
   "source": [
    "Les types de collections sont illustrés [plus bas](#Types-de-collections)."
   ]
  },
  {
   "cell_type": "markdown",
   "metadata": {},
   "source": [
    "# Liaison des variables et référence"
   ]
  },
  {
   "cell_type": "code",
   "execution_count": 38,
   "metadata": {
    "collapsed": false
   },
   "outputs": [
    {
     "name": "stdout",
     "output_type": "stream",
     "text": [
      "a -> 1 (94501225103008, <class 'int'>)\n",
      "a -> 1 (94501225103008, <class 'int'>), b -> 2 (94501225103040, <class 'int'>)\n",
      "a -> 1 (94501225103008, <class 'int'>), b -> 2 (94501225103040, <class 'int'>), c -> 1 (94501225103008, <class 'int'>)\n",
      "a -> 2 (94501225103040, <class 'int'>), b -> 2 (94501225103040, <class 'int'>), c -> 1 (94501225103008, <class 'int'>)\n"
     ]
    }
   ],
   "source": [
    "a = 1 # a est lié à l'entier (immuable) 1 (a -> 1)\n",
    "print(str.format(\"a -> {}\", describe_variable(a)))\n",
    "b = 2 # b est lié à l'entier (immuable) 2 (a -> 1, b -> 2)\n",
    "print(str.format(\"a -> {}, b -> {}\", describe_variable(a), describe_variable(b)))\n",
    "c = a # c est lié à l'entier (immuable) 1 référencé par a (a -> 1 <- c, b -> 2)\n",
    "print(str.format(\"a -> {}, b -> {}, c -> {}\", describe_variable(a), describe_variable(b), describe_variable(c)))\n",
    "a = b # (a -> 2 <- b, c -> 1)\n",
    "print(str.format(\"a -> {}, b -> {}, c -> {}\", describe_variable(a), describe_variable(b), describe_variable(c)))"
   ]
  },
  {
   "cell_type": "markdown",
   "metadata": {},
   "source": [
    "# Structures de contrôle"
   ]
  },
  {
   "cell_type": "markdown",
   "metadata": {},
   "source": [
    "## Pas d'action"
   ]
  },
  {
   "cell_type": "code",
   "execution_count": 40,
   "metadata": {
    "collapsed": true
   },
   "outputs": [],
   "source": [
    "# ne fait rien\n",
    "pass"
   ]
  },
  {
   "cell_type": "markdown",
   "metadata": {},
   "source": [
    "## Instruction conditionnelle"
   ]
  },
  {
   "cell_type": "code",
   "execution_count": 45,
   "metadata": {
    "collapsed": false
   },
   "outputs": [
    {
     "name": "stdout",
     "output_type": "stream",
     "text": [
      "i -> 5\n",
      "Inférieur à 10\n",
      "i -> 110\n",
      "Supérieur à 100\n",
      "i -> 50\n",
      "Tous les autres cas\n"
     ]
    }
   ],
   "source": [
    "i = 5\n",
    "print(\"i -> \" + str(i))\n",
    "if i < 10:\n",
    "    print(\"Inférieur à 10\")\n",
    "elif i > 100:\n",
    "    print(\"Supérieur à 100\")\n",
    "else:\n",
    "    print(\"Tous les autres cas\")\n",
    "\n",
    "i = 110\n",
    "print(\"i -> \" + str(i))\n",
    "if i < 10:\n",
    "    print(\"Inférieur à 10\")\n",
    "elif i > 100:\n",
    "    print(\"Supérieur à 100\")\n",
    "else:\n",
    "    print(\"Tous les autres cas\")\n",
    "    \n",
    "i = 50\n",
    "print(\"i -> \" + str(i))\n",
    "if i < 10:\n",
    "    print(\"Inférieur à 10\")\n",
    "elif i > 100:\n",
    "    print(\"Supérieur à 100\")\n",
    "else:\n",
    "    print(\"Tous les autres cas\")"
   ]
  },
  {
   "cell_type": "markdown",
   "metadata": {},
   "source": [
    "## Boucle"
   ]
  },
  {
   "cell_type": "code",
   "execution_count": 48,
   "metadata": {
    "collapsed": false
   },
   "outputs": [
    {
     "name": "stdout",
     "output_type": "stream",
     "text": [
      "0\n",
      "1\n",
      "2\n",
      "3\n",
      "4\n",
      "5\n",
      "6\n",
      "7\n",
      "8\n",
      "9\n"
     ]
    }
   ],
   "source": [
    "i = 0\n",
    "while i < 10:\n",
    "    print(i)\n",
    "    i += 1"
   ]
  },
  {
   "cell_type": "code",
   "execution_count": 49,
   "metadata": {
    "collapsed": false
   },
   "outputs": [
    {
     "name": "stdout",
     "output_type": "stream",
     "text": [
      "0\n",
      "1\n",
      "2\n",
      "3\n",
      "4\n",
      "5\n",
      "6\n",
      "7\n",
      "8\n",
      "9\n"
     ]
    }
   ],
   "source": [
    "for i in range(0, 10):\n",
    "    print(i)"
   ]
  },
  {
   "cell_type": "code",
   "execution_count": 50,
   "metadata": {
    "collapsed": false
   },
   "outputs": [
    {
     "name": "stdout",
     "output_type": "stream",
     "text": [
      "0\n",
      "3\n",
      "6\n",
      "9\n"
     ]
    }
   ],
   "source": [
    "for i in range(0, 10, 3):\n",
    "    print(i)"
   ]
  },
  {
   "cell_type": "markdown",
   "metadata": {},
   "source": [
    "# Quelques opérateurs spécifiques"
   ]
  },
  {
   "cell_type": "markdown",
   "metadata": {},
   "source": [
    "## Division en virgule flottante"
   ]
  },
  {
   "cell_type": "code",
   "execution_count": 51,
   "metadata": {
    "collapsed": false
   },
   "outputs": [
    {
     "data": {
      "text/plain": [
       "0.75"
      ]
     },
     "execution_count": 51,
     "metadata": {},
     "output_type": "execute_result"
    }
   ],
   "source": [
    "3 / 4"
   ]
  },
  {
   "cell_type": "markdown",
   "metadata": {},
   "source": [
    "## Division entière"
   ]
  },
  {
   "cell_type": "code",
   "execution_count": 53,
   "metadata": {
    "collapsed": false
   },
   "outputs": [
    {
     "data": {
      "text/plain": [
       "0"
      ]
     },
     "execution_count": 53,
     "metadata": {},
     "output_type": "execute_result"
    }
   ],
   "source": [
    "3 // 4"
   ]
  },
  {
   "cell_type": "markdown",
   "metadata": {},
   "source": [
    "## Élévation à la puissance"
   ]
  },
  {
   "cell_type": "code",
   "execution_count": 54,
   "metadata": {
    "collapsed": false
   },
   "outputs": [
    {
     "data": {
      "text/plain": [
       "27"
      ]
     },
     "execution_count": 54,
     "metadata": {},
     "output_type": "execute_result"
    }
   ],
   "source": [
    "3 ** 3"
   ]
  },
  {
   "cell_type": "markdown",
   "metadata": {},
   "source": [
    "## Expression conditionnelle"
   ]
  },
  {
   "cell_type": "code",
   "execution_count": 56,
   "metadata": {
    "collapsed": false
   },
   "outputs": [
    {
     "name": "stdout",
     "output_type": "stream",
     "text": [
      "i -> 5\n",
      "Inférieur à 10\n",
      "i -> 15\n",
      "Supérieur à 10\n"
     ]
    }
   ],
   "source": [
    "i = 5\n",
    "print(\"i -> \" + str(i))\n",
    "print(\"Inférieur à 10\" if i < 10 else \"Supérieur à 10\")\n",
    "i = 15\n",
    "print(\"i -> \" + str(i))\n",
    "print(\"Inférieur à 10\" if i < 10 else \"Supérieur à 10\")"
   ]
  },
  {
   "cell_type": "markdown",
   "metadata": {},
   "source": [
    "## Conversion de type"
   ]
  },
  {
   "cell_type": "code",
   "execution_count": 59,
   "metadata": {
    "collapsed": false,
    "scrolled": true
   },
   "outputs": [
    {
     "ename": "TypeError",
     "evalue": "Can't convert 'int' object to str implicitly",
     "output_type": "error",
     "traceback": [
      "\u001b[0;31m---------------------------------------------------------------------------\u001b[0m",
      "\u001b[0;31mTypeError\u001b[0m                                 Traceback (most recent call last)",
      "\u001b[0;32m<ipython-input-59-238944597cbf>\u001b[0m in \u001b[0;36m<module>\u001b[0;34m()\u001b[0m\n\u001b[0;32m----> 1\u001b[0;31m \u001b[0ms\u001b[0m \u001b[0;34m=\u001b[0m \u001b[0;34m\"i -> \"\u001b[0m \u001b[0;34m+\u001b[0m \u001b[0mi\u001b[0m\u001b[0;34m\u001b[0m\u001b[0m\n\u001b[0m",
      "\u001b[0;31mTypeError\u001b[0m: Can't convert 'int' object to str implicitly"
     ]
    }
   ],
   "source": [
    "s = \"i -> \" + i"
   ]
  },
  {
   "cell_type": "code",
   "execution_count": 58,
   "metadata": {
    "collapsed": false
   },
   "outputs": [
    {
     "name": "stdout",
     "output_type": "stream",
     "text": [
      "i -> 15 (139962991047208, <class 'str'>)\n"
     ]
    }
   ],
   "source": [
    "s = \"i -> \" + str(i) # création d'un objet de type str à partir d'un int\n",
    "print(describe_variable(s))"
   ]
  },
  {
   "cell_type": "markdown",
   "metadata": {},
   "source": [
    "# Fonction"
   ]
  },
  {
   "cell_type": "code",
   "execution_count": 60,
   "metadata": {
    "collapsed": true
   },
   "outputs": [],
   "source": [
    "def fib(n):\n",
    "    \"\"\"Print a Fibonacci series up to n.\"\"\"\n",
    "    a, b = 0, 1\n",
    "    while a < n:\n",
    "        print(a, end=' ')\n",
    "        a, b = b, a+b\n",
    "    print()"
   ]
  },
  {
   "cell_type": "code",
   "execution_count": 61,
   "metadata": {
    "collapsed": false
   },
   "outputs": [
    {
     "name": "stdout",
     "output_type": "stream",
     "text": [
      "0 1 1 2 3 5 8 13 21 34 55 89 144 233 377 610 987 1597 \n"
     ]
    }
   ],
   "source": [
    "fib(2000) # Appel de la fonction"
   ]
  },
  {
   "cell_type": "markdown",
   "metadata": {},
   "source": [
    "# Types de collections"
   ]
  },
  {
   "cell_type": "markdown",
   "metadata": {},
   "source": [
    "## Chaînes de caractères"
   ]
  },
  {
   "cell_type": "code",
   "execution_count": 65,
   "metadata": {
    "collapsed": false
   },
   "outputs": [
    {
     "name": "stdout",
     "output_type": "stream",
     "text": [
      "word est de taille 9, de type <class 'str'> et est lié à unununium\n",
      "u\n",
      "m\n",
      "unu\n",
      "un\n",
      "unium\n"
     ]
    }
   ],
   "source": [
    "word = 3 * 'un' + 'ium'\n",
    "print(\"word est de taille {1}, de type {2} et est lié à {0}\".format(word, len(word), type(word)))\n",
    "print(word[0])   # character in position 0\n",
    "print(word[-1])  # last character\n",
    "print(word[2:5]) # characters from position 2 (included) to 5 (excluded)\n",
    "print(word[:2])  # character from the beginning to position 2 (excluded)\n",
    "print(word[4:])  # characters from position 4 (included) to the end"
   ]
  },
  {
   "cell_type": "markdown",
   "metadata": {},
   "source": [
    "## Tuples"
   ]
  },
  {
   "cell_type": "code",
   "execution_count": 69,
   "metadata": {
    "collapsed": false
   },
   "outputs": [
    {
     "name": "stdout",
     "output_type": "stream",
     "text": [
      "() (139963139559496, <class 'tuple'>)\n",
      "(12345,)\n",
      "(12345, 54321, 'hello!')\n",
      "12345\n",
      "a -> 12345, b -> 54321, c -> hello!\n"
     ]
    }
   ],
   "source": [
    "t = () # tuple vide\n",
    "print(describe_variable(t))\n",
    "t = 12345, # singleton\n",
    "print(t)\n",
    "t = 12345, 54321, 'hello!'\n",
    "print(t)\n",
    "print(t[0]) # premier élément\n",
    "a, b, c = t\n",
    "print(\"a -> {}, b -> {}, c -> {}\".format(a, b, c))"
   ]
  },
  {
   "cell_type": "markdown",
   "metadata": {},
   "source": [
    "## Listes"
   ]
  },
  {
   "cell_type": "code",
   "execution_count": 73,
   "metadata": {
    "collapsed": false
   },
   "outputs": [
    {
     "name": "stdout",
     "output_type": "stream",
     "text": [
      "[1, 4, 9, 16, 25] (139962990825544, <class 'list'>)\n",
      "[0, 1, 4, 9, 16, 25, 36, 49, 64, 81] (139962991293704, <class 'list'>)\n",
      "[1, 4, 9, 16, 25, 36, 49, 64, 81] (139962991293704, <class 'list'>)\n",
      "[1, 8, 27, 65, 125] (139962990825544, <class 'list'>)\n",
      "[1, 8, 27, 64, 125] (139962990825544, <class 'list'>)\n"
     ]
    },
    {
     "ename": "NameError",
     "evalue": "name 'cubes' is not defined",
     "output_type": "error",
     "traceback": [
      "\u001b[0;31m---------------------------------------------------------------------------\u001b[0m",
      "\u001b[0;31mNameError\u001b[0m                                 Traceback (most recent call last)",
      "\u001b[0;32m<ipython-input-73-adf500ad68b1>\u001b[0m in \u001b[0;36m<module>\u001b[0;34m()\u001b[0m\n\u001b[1;32m     11\u001b[0m \u001b[0mprint\u001b[0m\u001b[0;34m(\u001b[0m\u001b[0mdescribe_variable\u001b[0m\u001b[0;34m(\u001b[0m\u001b[0mcubes\u001b[0m\u001b[0;34m)\u001b[0m\u001b[0;34m)\u001b[0m\u001b[0;34m\u001b[0m\u001b[0m\n\u001b[1;32m     12\u001b[0m \u001b[0;32mdel\u001b[0m \u001b[0mcubes\u001b[0m \u001b[0;31m# supprime la variable\u001b[0m\u001b[0;34m\u001b[0m\u001b[0m\n\u001b[0;32m---> 13\u001b[0;31m \u001b[0mprint\u001b[0m\u001b[0;34m(\u001b[0m\u001b[0mdescribe_variable\u001b[0m\u001b[0;34m(\u001b[0m\u001b[0mcubes\u001b[0m\u001b[0;34m)\u001b[0m\u001b[0;34m)\u001b[0m\u001b[0;34m\u001b[0m\u001b[0m\n\u001b[0m",
      "\u001b[0;31mNameError\u001b[0m: name 'cubes' is not defined"
     ]
    }
   ],
   "source": [
    "squares = [1, 4, 9, 16, 25]\n",
    "print(describe_variable(squares))\n",
    "squares = [x**2 for x in range(10)] # liste en compréhension\n",
    "print(describe_variable(squares))\n",
    "del squares[0] # supprime le premier élément\n",
    "print(describe_variable(squares))\n",
    "\n",
    "cubes = [1, 8, 27, 65, 125]\n",
    "print(describe_variable(cubes))\n",
    "cubes[3] = 64 # modifiable\n",
    "print(describe_variable(cubes))\n",
    "del cubes # supprime la variable\n",
    "print(describe_variable(cubes))"
   ]
  },
  {
   "cell_type": "markdown",
   "metadata": {},
   "source": [
    "## Ensembles"
   ]
  },
  {
   "cell_type": "code",
   "execution_count": 81,
   "metadata": {
    "collapsed": false
   },
   "outputs": [
    {
     "name": "stdout",
     "output_type": "stream",
     "text": [
      "set() (139962991887528, <class 'set'>)\n",
      "{'orange', 'banana', 'pear', 'apple'} (139962991888872, <class 'set'>)\n",
      "True\n",
      "a -> {'a', 'b', 'd', 'c', 'r'}\n",
      "b -> {'a', 'm', 'l', 'z', 'c'}\n",
      "a - b == {'b', 'd', 'r'}\n",
      "a | b == {'b', 'd', 'r', 'm', 'c', 'a', 'z', 'l'}\n",
      "a & b == {'a', 'c'}\n",
      "a ^ b == {'b', 'd', 'r', 'm', 'z', 'l'}\n",
      "a -> {'d', 'r'}\n"
     ]
    }
   ],
   "source": [
    "basket = set() # ensemble vide\n",
    "print(describe_variable(basket))\n",
    "basket = {'apple', 'orange', 'apple', 'pear', 'orange', 'banana'}\n",
    "print(describe_variable(basket))\n",
    "print('orange' in basket) # test d'appartenance\n",
    "a = set('abracadabra') # les doublons sont éliminés\n",
    "print(\"a -> {}\".format(a))\n",
    "b = set('alacazam')\n",
    "print(\"b -> {}\".format(b))\n",
    "print(\"a - b == {}\".format(a - b)) # différence\n",
    "print(\"a | b == {}\".format(a | b)) # union\n",
    "print(\"a & b == {}\".format(a & b)) # intersection\n",
    "print(\"a ^ b == {}\".format(a ^ b)) # a union b privé de a inter b\n",
    "a = {x for x in 'abracadabra' if x not in 'abc'} # ensemble en compréhension\n",
    "print(\"a -> {}\".format(a))"
   ]
  },
  {
   "cell_type": "markdown",
   "metadata": {},
   "source": [
    "## Dictionnaires"
   ]
  },
  {
   "cell_type": "code",
   "execution_count": 84,
   "metadata": {
    "collapsed": false
   },
   "outputs": [
    {
     "name": "stdout",
     "output_type": "stream",
     "text": [
      "{'sape': 4139, 'jack': 4098} (139962991280968, <class 'dict'>)\n",
      "{'sape': 4139, 'jack': 4098, 'guido': 4127}\n",
      "{'jack': 4098, 'guido': 4127}\n"
     ]
    }
   ],
   "source": [
    "tel = {'jack': 4098, 'sape': 4139}\n",
    "print(describe_variable(tel))\n",
    "tel['guido'] = 4127\n",
    "print(tel)\n",
    "del tel['sape']\n",
    "print(tel)"
   ]
  }
 ],
 "metadata": {
  "celltoolbar": "Raw Cell Format",
  "kernelspec": {
   "display_name": "Python 3",
   "language": "python",
   "name": "python3"
  },
  "language_info": {
   "codemirror_mode": {
    "name": "ipython",
    "version": 3
   },
   "file_extension": ".py",
   "mimetype": "text/x-python",
   "name": "python",
   "nbconvert_exporter": "python",
   "pygments_lexer": "ipython3",
   "version": "3.5.3rc1"
  }
 },
 "nbformat": 4,
 "nbformat_minor": 2
}
